{
  "cells": [
    {
      "cell_type": "code",
      "execution_count": null,
      "metadata": {
        "collapsed": true,
        "id": "yaA5LGWmMlOk"
      },
      "outputs": [],
      "source": [
        "import pandas as pd\n",
        "import numpy as np"
      ]
    },
    {
      "cell_type": "code",
      "execution_count": null,
      "outputs": [],
      "source": [
        "data = pd.read_csv(\"C:/Users/acer/Desktop/Geoinformatyka/Wstęp do uczenia maszynowego/Lab2/dane.csv\")"
      ],
      "metadata": {
        "id": "y9-fne2ZMlOm"
      }
    },
    {
      "cell_type": "markdown",
      "source": [
        "<h1> 1. Sprawdź liczebność poszczególnych etykiet dla danych zmiennych\n",
        "jakościowych </h1>\n"
      ],
      "metadata": {
        "collapsed": false,
        "id": "J3ew2XPxMlOn"
      }
    },
    {
      "cell_type": "code",
      "execution_count": null,
      "outputs": [
        {
          "name": "stdout",
          "output_type": "stream",
          "text": [
            "Liczba etykiet zmiennej pclass: 3\n",
            "Liczba etykiet zmiennej age: 99\n",
            "Liczba etykiet zmiennej survived: 2\n",
            "Liczba etykiet zmiennej age: 99\n",
            "Liczba etykiet zmiennej sex: 2\n",
            "Liczba etykiet zmiennej sibsp: 7\n",
            "Liczba etykiet zmiennej parch: 8\n",
            "Liczba etykiet zmiennej ticket: 929\n",
            "Liczba etykiet zmiennej fare: 282\n",
            "Liczba etykiet zmiennej cabin: 187\n",
            "Liczba etykiet zmiennej embarked: 4\n",
            "Liczba etykiet zmiennej boat: 28\n",
            "Liczba etykiet zmiennej body: 122\n",
            "Liczba etykiet zmiennej home.dest: 370\n",
            "Liczba etykiet zmiennej name: 1307\n"
          ]
        }
      ],
      "source": [
        "# print('Liczba etykiet zmiennej pclass: {}'.format(len(data.pclass.unique())))\n",
        "# print('Liczba etykiet zmiennej age: {}'.format(len(data.age.unique())))\n",
        "# print('Liczba etykiet zmiennej survived: {}'.format(len(data.survived.unique())))\n",
        "# print('Liczba etykiet zmiennej sex: {}'.format(len(data.sex.unique())))\n",
        "# print('Liczba etykiet zmiennej sibsp: {}'.format(len(data.sibsp.unique())))\n",
        "# print('Liczba etykiet zmiennej parch: {}'.format(len(data.parch.unique())))\n",
        "# print('Liczba etykiet zmiennej ticket: {}'.format(len(data.ticket.unique())))\n",
        "# print('Liczba etykiet zmiennej fare: {}'.format(len(data.fare.unique())))\n",
        "# print('Liczba etykiet zmiennej cabin: {}'.format(len(data.cabin.unique())))\n",
        "# print('Liczba etykiet zmiennej embarked: {}'.format(len(data.embarked.unique())))\n",
        "# print('Liczba etykiet zmiennej boat: {}'.format(len(data.boat.unique())))\n",
        "# print('Liczba etykiet zmiennej body: {}'.format(len(data.body.unique())))\n",
        "# print('Liczba etykiet zmiennej home.dest: {}'.format(len(data['home.dest'].unique())))\n",
        "# print('Liczba etykiet zmiennej name: {}'.format(len(data.name.unique())))\n",
        "tablica = ['pclass','age','survived','age','sex','sibsp','parch','ticket','fare','cabin','embarked','boat','body','home.dest','name']\n",
        "\n",
        "for i in tablica:\n",
        "    print('Liczba etykiet zmiennej {}'.format(i) + ': {}'.format(len(data[i].unique())))\n"
      ],
      "metadata": {
        "id": "pYO5H7YHMlOp",
        "outputId": "64f76977-e52f-49fd-dc8e-2e3e1e3609df"
      }
    },
    {
      "cell_type": "markdown",
      "source": [
        "<h1> 2. Wyświetl z użyciem funkcji print liczbę wszystkich pasażerów.\n",
        "Wykorzystaj podobny sposób jak w punkcie 1. </h1>"
      ],
      "metadata": {
        "collapsed": false,
        "id": "FKGntqUOMlOs"
      }
    },
    {
      "cell_type": "code",
      "execution_count": null,
      "outputs": [
        {
          "name": "stdout",
          "output_type": "stream",
          "text": [
            "Liczba wszystkich pasażerów: 1309\n"
          ]
        }
      ],
      "source": [
        "print('Liczba wszystkich pasażerów: {}'.format(len(data)))"
      ],
      "metadata": {
        "id": "UC7tPERXMlOs",
        "outputId": "908ae9d4-75b0-4f7f-dc9c-2f98db37dc18"
      }
    },
    {
      "cell_type": "markdown",
      "source": [
        "<h1> 3. Skomentuj wyniki otrzymane w punkcie 1 i 2. Podziel zmienne ze\n",
        "względu na dużą i małą moc zbioru (kardynalność). </h1>"
      ],
      "metadata": {
        "collapsed": false,
        "id": "YGN4o1FuMlOt"
      }
    },
    {
      "cell_type": "markdown",
      "source": [
        "<p> niektórych etykiet jest bardzo dużo i są unikalne w obrębie całego zbioru (name). Najmniej etykiet ma kolumna sex i survived (po 2- oczywiste). Ogólnie zmienne mają dośc dużo etykiet. Dużą moc zbioru maja zmienne: name, ticket, home.dest, fare, cabin, body Mała moc zbioru: pozostałe: pclass, survived, sex, sibsp, parch, embarked, boat age </p>\n",
        "\n",
        "<h1>4. Sprawdź, ile unikalnych etykiet ma zmienna mówiąca o kabinie danego pasażera. Użyj takiej funkcji, która zwraca wynik w postaci NumPy array. </h1>"
      ],
      "metadata": {
        "collapsed": false,
        "id": "TtWdJpdqMlOu"
      }
    },
    {
      "cell_type": "code",
      "execution_count": null,
      "outputs": [
        {
          "name": "stdout",
          "output_type": "stream",
          "text": [
            "Liczba unikalnych etykiet cabin: ['B5' 'C22 C26' 'E12' 'D7' 'A36' 'C101' '?' 'C62 C64' 'B35' 'A23'\n",
            " 'B58 B60' 'D15' 'C6' 'D35' 'C148' 'C97' 'B49' 'C99' 'C52' 'T' 'A31' 'C7'\n",
            " 'C103' 'D22' 'E33' 'A21' 'B10' 'B4' 'E40' 'B38' 'E24' 'B51 B53 B55'\n",
            " 'B96 B98' 'C46' 'E31' 'E8' 'B61' 'B77' 'A9' 'C89' 'A14' 'E58' 'E49' 'E52'\n",
            " 'E45' 'B22' 'B26' 'C85' 'E17' 'B71' 'B20' 'A34' 'C86' 'A16' 'A20' 'A18'\n",
            " 'C54' 'C45' 'D20' 'A29' 'C95' 'E25' 'C111' 'C23 C25 C27' 'E36' 'D34'\n",
            " 'D40' 'B39' 'B41' 'B102' 'C123' 'E63' 'C130' 'B86' 'C92' 'A5' 'C51' 'B42'\n",
            " 'C91' 'C125' 'D10 D12' 'B82 B84' 'E50' 'D33' 'C83' 'B94' 'D49' 'D45'\n",
            " 'B69' 'B11' 'E46' 'C39' 'B18' 'D11' 'C93' 'B28' 'C49' 'B52 B54 B56' 'E60'\n",
            " 'C132' 'B37' 'D21' 'D19' 'C124' 'D17' 'B101' 'D28' 'D6' 'D9' 'B80' 'C106'\n",
            " 'B79' 'C47' 'D30' 'C90' 'E38' 'C78' 'C30' 'C118' 'D36' 'D48' 'D47' 'C105'\n",
            " 'B36' 'B30' 'D43' 'B24' 'C2' 'C65' 'B73' 'C104' 'C110' 'C50' 'B3' 'A24'\n",
            " 'A32' 'A11' 'A10' 'B57 B59 B63 B66' 'C28' 'E44' 'A26' 'A6' 'A7' 'C31'\n",
            " 'A19' 'B45' 'E34' 'B78' 'B50' 'C87' 'C116' 'C55 C57' 'D50' 'E68' 'E67'\n",
            " 'C126' 'C68' 'C70' 'C53' 'B19' 'D46' 'D37' 'D26' 'C32' 'C80' 'C82' 'C128'\n",
            " 'E39 E41' 'D' 'F4' 'D56' 'F33' 'E101' 'E77' 'F2' 'D38' 'F' 'F G63'\n",
            " 'F E57' 'F E46' 'F G73' 'E121' 'F E69' 'E10' 'G6' 'F38']\n"
          ]
        },
        {
          "data": {
            "text/plain": "array(['B5', 'C22 C26', 'E12', 'D7', 'A36', 'C101', '?', 'C62 C64', 'B35',\n       'A23', 'B58 B60', 'D15', 'C6', 'D35', 'C148', 'C97', 'B49', 'C99',\n       'C52', 'T', 'A31', 'C7', 'C103', 'D22', 'E33', 'A21', 'B10', 'B4',\n       'E40', 'B38', 'E24', 'B51 B53 B55', 'B96 B98', 'C46', 'E31', 'E8',\n       'B61', 'B77', 'A9', 'C89', 'A14', 'E58', 'E49', 'E52', 'E45',\n       'B22', 'B26', 'C85', 'E17', 'B71', 'B20', 'A34', 'C86', 'A16',\n       'A20', 'A18', 'C54', 'C45', 'D20', 'A29', 'C95', 'E25', 'C111',\n       'C23 C25 C27', 'E36', 'D34', 'D40', 'B39', 'B41', 'B102', 'C123',\n       'E63', 'C130', 'B86', 'C92', 'A5', 'C51', 'B42', 'C91', 'C125',\n       'D10 D12', 'B82 B84', 'E50', 'D33', 'C83', 'B94', 'D49', 'D45',\n       'B69', 'B11', 'E46', 'C39', 'B18', 'D11', 'C93', 'B28', 'C49',\n       'B52 B54 B56', 'E60', 'C132', 'B37', 'D21', 'D19', 'C124', 'D17',\n       'B101', 'D28', 'D6', 'D9', 'B80', 'C106', 'B79', 'C47', 'D30',\n       'C90', 'E38', 'C78', 'C30', 'C118', 'D36', 'D48', 'D47', 'C105',\n       'B36', 'B30', 'D43', 'B24', 'C2', 'C65', 'B73', 'C104', 'C110',\n       'C50', 'B3', 'A24', 'A32', 'A11', 'A10', 'B57 B59 B63 B66', 'C28',\n       'E44', 'A26', 'A6', 'A7', 'C31', 'A19', 'B45', 'E34', 'B78', 'B50',\n       'C87', 'C116', 'C55 C57', 'D50', 'E68', 'E67', 'C126', 'C68',\n       'C70', 'C53', 'B19', 'D46', 'D37', 'D26', 'C32', 'C80', 'C82',\n       'C128', 'E39 E41', 'D', 'F4', 'D56', 'F33', 'E101', 'E77', 'F2',\n       'D38', 'F', 'F G63', 'F E57', 'F E46', 'F G73', 'E121', 'F E69',\n       'E10', 'G6', 'F38'], dtype=object)"
          },
          "execution_count": 12,
          "metadata": {},
          "output_type": "execute_result"
        }
      ],
      "source": [
        "print('Liczba unikalnych etykiet cabin: {}'.format(data.cabin.unique()))\n",
        "data.cabin.unique()"
      ],
      "metadata": {
        "id": "IdhpdDhEMlOv",
        "outputId": "30b97ba2-637e-4030-d706-9f7ae09b7ab5"
      }
    },
    {
      "cell_type": "markdown",
      "source": [
        "<h1> 5. Zredukuj liczbę cech dla zmiennej opisującej kabiny poprzez zastąpienie\n",
        "obecnych etykiet w formacie PP11 do etykiet zawierających tylko\n",
        "pierwszą literę. Użyj astype(str).str[pozycja]. Nową zmienną nazwij\n",
        "CabinReduced. Wyświetl pierwsze 25 wierszy zbioru danych dla kolumn\n",
        "Cabin i CabinReduced </h1>\n"
      ],
      "metadata": {
        "collapsed": false,
        "id": "rNyom5PdMlOw"
      }
    },
    {
      "cell_type": "markdown",
      "source": [],
      "metadata": {
        "collapsed": false,
        "id": "TkgXdZuvMlOw"
      }
    },
    {
      "cell_type": "code",
      "execution_count": null,
      "outputs": [
        {
          "data": {
            "text/plain": "      cabin CabinReduced\n0        B5            B\n1   C22 C26            C\n2   C22 C26            C\n3   C22 C26            C\n4   C22 C26            C\n5       E12            E\n6        D7            D\n7       A36            A\n8      C101            C\n9         ?            ?\n10  C62 C64            C\n11  C62 C64            C\n12      B35            B\n13        ?            ?\n14      A23            A\n15        ?            ?\n16  B58 B60            B\n17  B58 B60            B\n18      D15            D\n19       C6            C\n20      D35            D\n21      D35            D\n22     C148            C\n23        ?            ?\n24      C97            C",
            "text/html": "<div>\n<style scoped>\n    .dataframe tbody tr th:only-of-type {\n        vertical-align: middle;\n    }\n\n    .dataframe tbody tr th {\n        vertical-align: top;\n    }\n\n    .dataframe thead th {\n        text-align: right;\n    }\n</style>\n<table border=\"1\" class=\"dataframe\">\n  <thead>\n    <tr style=\"text-align: right;\">\n      <th></th>\n      <th>cabin</th>\n      <th>CabinReduced</th>\n    </tr>\n  </thead>\n  <tbody>\n    <tr>\n      <th>0</th>\n      <td>B5</td>\n      <td>B</td>\n    </tr>\n    <tr>\n      <th>1</th>\n      <td>C22 C26</td>\n      <td>C</td>\n    </tr>\n    <tr>\n      <th>2</th>\n      <td>C22 C26</td>\n      <td>C</td>\n    </tr>\n    <tr>\n      <th>3</th>\n      <td>C22 C26</td>\n      <td>C</td>\n    </tr>\n    <tr>\n      <th>4</th>\n      <td>C22 C26</td>\n      <td>C</td>\n    </tr>\n    <tr>\n      <th>5</th>\n      <td>E12</td>\n      <td>E</td>\n    </tr>\n    <tr>\n      <th>6</th>\n      <td>D7</td>\n      <td>D</td>\n    </tr>\n    <tr>\n      <th>7</th>\n      <td>A36</td>\n      <td>A</td>\n    </tr>\n    <tr>\n      <th>8</th>\n      <td>C101</td>\n      <td>C</td>\n    </tr>\n    <tr>\n      <th>9</th>\n      <td>?</td>\n      <td>?</td>\n    </tr>\n    <tr>\n      <th>10</th>\n      <td>C62 C64</td>\n      <td>C</td>\n    </tr>\n    <tr>\n      <th>11</th>\n      <td>C62 C64</td>\n      <td>C</td>\n    </tr>\n    <tr>\n      <th>12</th>\n      <td>B35</td>\n      <td>B</td>\n    </tr>\n    <tr>\n      <th>13</th>\n      <td>?</td>\n      <td>?</td>\n    </tr>\n    <tr>\n      <th>14</th>\n      <td>A23</td>\n      <td>A</td>\n    </tr>\n    <tr>\n      <th>15</th>\n      <td>?</td>\n      <td>?</td>\n    </tr>\n    <tr>\n      <th>16</th>\n      <td>B58 B60</td>\n      <td>B</td>\n    </tr>\n    <tr>\n      <th>17</th>\n      <td>B58 B60</td>\n      <td>B</td>\n    </tr>\n    <tr>\n      <th>18</th>\n      <td>D15</td>\n      <td>D</td>\n    </tr>\n    <tr>\n      <th>19</th>\n      <td>C6</td>\n      <td>C</td>\n    </tr>\n    <tr>\n      <th>20</th>\n      <td>D35</td>\n      <td>D</td>\n    </tr>\n    <tr>\n      <th>21</th>\n      <td>D35</td>\n      <td>D</td>\n    </tr>\n    <tr>\n      <th>22</th>\n      <td>C148</td>\n      <td>C</td>\n    </tr>\n    <tr>\n      <th>23</th>\n      <td>?</td>\n      <td>?</td>\n    </tr>\n    <tr>\n      <th>24</th>\n      <td>C97</td>\n      <td>C</td>\n    </tr>\n  </tbody>\n</table>\n</div>"
          },
          "execution_count": 13,
          "metadata": {},
          "output_type": "execute_result"
        }
      ],
      "source": [
        "data['CabinReduced'] = data['cabin'].astype(str).str[0]\n",
        "data[['cabin','CabinReduced']].head(25)"
      ],
      "metadata": {
        "id": "GO7FJMkXMlOx",
        "outputId": "0c717c68-7a0d-4168-8a41-b700f0fcd0a8"
      }
    },
    {
      "cell_type": "markdown",
      "source": [
        "<h1> 6. Wyświetl (jak w pkt 1) liczbę etykiet dla zmiennych z punkt 5. O ile\n",
        "procent zredukowano kardynalność zbioru zmiennej opisującej kabiny?</h1>\n"
      ],
      "metadata": {
        "collapsed": false,
        "id": "ZOb1535oMlOx"
      }
    },
    {
      "cell_type": "code",
      "execution_count": null,
      "outputs": [
        {
          "name": "stdout",
          "output_type": "stream",
          "text": [
            "Liczba etykiet zmiennej CabinReduced: 9\n",
            "Liczba etykiet zmiennej cabin: 187\n",
            "Zredukowano o: 95.19\n"
          ]
        }
      ],
      "source": [
        "print('Liczba etykiet zmiennej CabinReduced: {}'.format(len(data.CabinReduced.unique())))\n",
        "print('Liczba etykiet zmiennej cabin: {}'.format(len(data.cabin.unique())))\n",
        "wynik = len(data.CabinReduced.unique())/len(data.cabin.unique())\n",
        "wynik2 = round((1-wynik) * 100,2)\n",
        "print(\"Zredukowano o: {}\".format(wynik2))"
      ],
      "metadata": {
        "id": "cXREAv9TMlOy",
        "outputId": "ade7ea82-694e-4b9f-c695-eba099071f2f"
      }
    },
    {
      "cell_type": "markdown",
      "source": [
        "<h1> 7. Uzasadnij, dlaczego dokonujesz redukcji akurat tej zmiennej. Jak to\n",
        "wpływa na przyszłe analizy. Czy powoduje jakieś negatywne skutki? </h1>"
      ],
      "metadata": {
        "collapsed": false,
        "id": "dpthRzGlMlOz"
      }
    },
    {
      "cell_type": "markdown",
      "source": [
        "<p> Dzięki temu w kolumnie będzie mniej etykiet, co wpływa na szybkość analizy. Staje się ona także łatwiejsza. Jednak niesie to również ze sobą negatywne skutki jak np utrata częściowych informacji o danej kabinie - niepełny numer </p>"
      ],
      "metadata": {
        "collapsed": false,
        "id": "b5pUvAquMlOz"
      }
    },
    {
      "cell_type": "code",
      "execution_count": null,
      "outputs": [],
      "source": [],
      "metadata": {
        "id": "lLt5BHG5MlO0"
      }
    }
  ],
  "metadata": {
    "kernelspec": {
      "display_name": "Python 3",
      "language": "python",
      "name": "python3"
    },
    "language_info": {
      "codemirror_mode": {
        "name": "ipython",
        "version": 2
      },
      "file_extension": ".py",
      "mimetype": "text/x-python",
      "name": "python",
      "nbconvert_exporter": "python",
      "pygments_lexer": "ipython2",
      "version": "2.7.6"
    },
    "colab": {
      "provenance": []
    }
  },
  "nbformat": 4,
  "nbformat_minor": 0
}