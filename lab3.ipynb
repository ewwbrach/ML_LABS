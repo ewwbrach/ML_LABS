{
  "cells": [
    {
      "cell_type": "code",
      "execution_count": null,
      "metadata": {
        "collapsed": true,
        "id": "cbEzfXsFfMEG"
      },
      "outputs": [],
      "source": [
        "import pandas as pd\n",
        "import numpy as np"
      ]
    },
    {
      "cell_type": "markdown",
      "source": [
        " 1. Wczytaj zbiór danych Titanic (Lab2)\n"
      ],
      "metadata": {
        "collapsed": false,
        "id": "phhx3PpxfMEJ"
      }
    },
    {
      "cell_type": "code",
      "execution_count": null,
      "outputs": [],
      "source": [
        "data = pd.read_csv(\"C:/Users/acer/Desktop/Geoinformatyka/Wstęp do uczenia maszynowego/Lab2/dane.csv\")"
      ],
      "metadata": {
        "id": "LM8HQtyDfMEL"
      }
    },
    {
      "cell_type": "markdown",
      "source": [
        "2. Dokonaj wstępnej inspekcji pierwszych 20 wierszy. Co widzisz?\n",
        "Zbiór danych ma 14 kolumn, pojawiają się pytajniki w danych, które sugerują brakujące wartości\n"
      ],
      "metadata": {
        "collapsed": false,
        "id": "G8mcqFcofMEM"
      }
    },
    {
      "cell_type": "code",
      "execution_count": null,
      "outputs": [
        {
          "data": {
            "text/plain": "    pclass  survived                                               name  \\\n0        1         1                      Allen, Miss. Elisabeth Walton   \n1        1         1                     Allison, Master. Hudson Trevor   \n2        1         0                       Allison, Miss. Helen Loraine   \n3        1         0               Allison, Mr. Hudson Joshua Creighton   \n4        1         0    Allison, Mrs. Hudson J C (Bessie Waldo Daniels)   \n5        1         1                                Anderson, Mr. Harry   \n6        1         1                  Andrews, Miss. Kornelia Theodosia   \n7        1         0                             Andrews, Mr. Thomas Jr   \n8        1         1      Appleton, Mrs. Edward Dale (Charlotte Lamson)   \n9        1         0                            Artagaveytia, Mr. Ramon   \n10       1         0                             Astor, Col. John Jacob   \n11       1         1  Astor, Mrs. John Jacob (Madeleine Talmadge Force)   \n12       1         1                      Aubart, Mme. Leontine Pauline   \n13       1         1                       Barber, Miss. Ellen 'Nellie'   \n14       1         1               Barkworth, Mr. Algernon Henry Wilson   \n15       1         0                                Baumann, Mr. John D   \n16       1         0                           Baxter, Mr. Quigg Edmond   \n17       1         1    Baxter, Mrs. James (Helene DeLaudeniere Chaput)   \n18       1         1                              Bazzani, Miss. Albina   \n19       1         0                               Beattie, Mr. Thomson   \n\n       sex     age  sibsp  parch    ticket      fare    cabin embarked boat  \\\n0   female      29      0      0     24160  211.3375       B5        S    2   \n1     male  0.9167      1      2    113781    151.55  C22 C26        S   11   \n2   female       2      1      2    113781    151.55  C22 C26        S    ?   \n3     male      30      1      2    113781    151.55  C22 C26        S    ?   \n4   female      25      1      2    113781    151.55  C22 C26        S    ?   \n5     male      48      0      0     19952     26.55      E12        S    3   \n6   female      63      1      0     13502   77.9583       D7        S   10   \n7     male      39      0      0    112050         0      A36        S    ?   \n8   female      53      2      0     11769   51.4792     C101        S    D   \n9     male      71      0      0  PC 17609   49.5042        ?        C    ?   \n10    male      47      1      0  PC 17757   227.525  C62 C64        C    ?   \n11  female      18      1      0  PC 17757   227.525  C62 C64        C    4   \n12  female      24      0      0  PC 17477      69.3      B35        C    9   \n13  female      26      0      0     19877     78.85        ?        S    6   \n14    male      80      0      0     27042        30      A23        S    B   \n15    male       ?      0      0  PC 17318    25.925        ?        S    ?   \n16    male      24      0      1  PC 17558  247.5208  B58 B60        C    ?   \n17  female      50      0      1  PC 17558  247.5208  B58 B60        C    6   \n18  female      32      0      0     11813   76.2917      D15        C    8   \n19    male      36      0      0     13050   75.2417       C6        C    A   \n\n   body                        home.dest  \n0     ?                     St Louis, MO  \n1     ?  Montreal, PQ / Chesterville, ON  \n2     ?  Montreal, PQ / Chesterville, ON  \n3   135  Montreal, PQ / Chesterville, ON  \n4     ?  Montreal, PQ / Chesterville, ON  \n5     ?                     New York, NY  \n6     ?                       Hudson, NY  \n7     ?                      Belfast, NI  \n8     ?              Bayside, Queens, NY  \n9    22              Montevideo, Uruguay  \n10  124                     New York, NY  \n11    ?                     New York, NY  \n12    ?                    Paris, France  \n13    ?                                ?  \n14    ?                    Hessle, Yorks  \n15    ?                     New York, NY  \n16    ?                     Montreal, PQ  \n17    ?                     Montreal, PQ  \n18    ?                                ?  \n19    ?                     Winnipeg, MN  ",
            "text/html": "<div>\n<style scoped>\n    .dataframe tbody tr th:only-of-type {\n        vertical-align: middle;\n    }\n\n    .dataframe tbody tr th {\n        vertical-align: top;\n    }\n\n    .dataframe thead th {\n        text-align: right;\n    }\n</style>\n<table border=\"1\" class=\"dataframe\">\n  <thead>\n    <tr style=\"text-align: right;\">\n      <th></th>\n      <th>pclass</th>\n      <th>survived</th>\n      <th>name</th>\n      <th>sex</th>\n      <th>age</th>\n      <th>sibsp</th>\n      <th>parch</th>\n      <th>ticket</th>\n      <th>fare</th>\n      <th>cabin</th>\n      <th>embarked</th>\n      <th>boat</th>\n      <th>body</th>\n      <th>home.dest</th>\n    </tr>\n  </thead>\n  <tbody>\n    <tr>\n      <th>0</th>\n      <td>1</td>\n      <td>1</td>\n      <td>Allen, Miss. Elisabeth Walton</td>\n      <td>female</td>\n      <td>29</td>\n      <td>0</td>\n      <td>0</td>\n      <td>24160</td>\n      <td>211.3375</td>\n      <td>B5</td>\n      <td>S</td>\n      <td>2</td>\n      <td>?</td>\n      <td>St Louis, MO</td>\n    </tr>\n    <tr>\n      <th>1</th>\n      <td>1</td>\n      <td>1</td>\n      <td>Allison, Master. Hudson Trevor</td>\n      <td>male</td>\n      <td>0.9167</td>\n      <td>1</td>\n      <td>2</td>\n      <td>113781</td>\n      <td>151.55</td>\n      <td>C22 C26</td>\n      <td>S</td>\n      <td>11</td>\n      <td>?</td>\n      <td>Montreal, PQ / Chesterville, ON</td>\n    </tr>\n    <tr>\n      <th>2</th>\n      <td>1</td>\n      <td>0</td>\n      <td>Allison, Miss. Helen Loraine</td>\n      <td>female</td>\n      <td>2</td>\n      <td>1</td>\n      <td>2</td>\n      <td>113781</td>\n      <td>151.55</td>\n      <td>C22 C26</td>\n      <td>S</td>\n      <td>?</td>\n      <td>?</td>\n      <td>Montreal, PQ / Chesterville, ON</td>\n    </tr>\n    <tr>\n      <th>3</th>\n      <td>1</td>\n      <td>0</td>\n      <td>Allison, Mr. Hudson Joshua Creighton</td>\n      <td>male</td>\n      <td>30</td>\n      <td>1</td>\n      <td>2</td>\n      <td>113781</td>\n      <td>151.55</td>\n      <td>C22 C26</td>\n      <td>S</td>\n      <td>?</td>\n      <td>135</td>\n      <td>Montreal, PQ / Chesterville, ON</td>\n    </tr>\n    <tr>\n      <th>4</th>\n      <td>1</td>\n      <td>0</td>\n      <td>Allison, Mrs. Hudson J C (Bessie Waldo Daniels)</td>\n      <td>female</td>\n      <td>25</td>\n      <td>1</td>\n      <td>2</td>\n      <td>113781</td>\n      <td>151.55</td>\n      <td>C22 C26</td>\n      <td>S</td>\n      <td>?</td>\n      <td>?</td>\n      <td>Montreal, PQ / Chesterville, ON</td>\n    </tr>\n    <tr>\n      <th>5</th>\n      <td>1</td>\n      <td>1</td>\n      <td>Anderson, Mr. Harry</td>\n      <td>male</td>\n      <td>48</td>\n      <td>0</td>\n      <td>0</td>\n      <td>19952</td>\n      <td>26.55</td>\n      <td>E12</td>\n      <td>S</td>\n      <td>3</td>\n      <td>?</td>\n      <td>New York, NY</td>\n    </tr>\n    <tr>\n      <th>6</th>\n      <td>1</td>\n      <td>1</td>\n      <td>Andrews, Miss. Kornelia Theodosia</td>\n      <td>female</td>\n      <td>63</td>\n      <td>1</td>\n      <td>0</td>\n      <td>13502</td>\n      <td>77.9583</td>\n      <td>D7</td>\n      <td>S</td>\n      <td>10</td>\n      <td>?</td>\n      <td>Hudson, NY</td>\n    </tr>\n    <tr>\n      <th>7</th>\n      <td>1</td>\n      <td>0</td>\n      <td>Andrews, Mr. Thomas Jr</td>\n      <td>male</td>\n      <td>39</td>\n      <td>0</td>\n      <td>0</td>\n      <td>112050</td>\n      <td>0</td>\n      <td>A36</td>\n      <td>S</td>\n      <td>?</td>\n      <td>?</td>\n      <td>Belfast, NI</td>\n    </tr>\n    <tr>\n      <th>8</th>\n      <td>1</td>\n      <td>1</td>\n      <td>Appleton, Mrs. Edward Dale (Charlotte Lamson)</td>\n      <td>female</td>\n      <td>53</td>\n      <td>2</td>\n      <td>0</td>\n      <td>11769</td>\n      <td>51.4792</td>\n      <td>C101</td>\n      <td>S</td>\n      <td>D</td>\n      <td>?</td>\n      <td>Bayside, Queens, NY</td>\n    </tr>\n    <tr>\n      <th>9</th>\n      <td>1</td>\n      <td>0</td>\n      <td>Artagaveytia, Mr. Ramon</td>\n      <td>male</td>\n      <td>71</td>\n      <td>0</td>\n      <td>0</td>\n      <td>PC 17609</td>\n      <td>49.5042</td>\n      <td>?</td>\n      <td>C</td>\n      <td>?</td>\n      <td>22</td>\n      <td>Montevideo, Uruguay</td>\n    </tr>\n    <tr>\n      <th>10</th>\n      <td>1</td>\n      <td>0</td>\n      <td>Astor, Col. John Jacob</td>\n      <td>male</td>\n      <td>47</td>\n      <td>1</td>\n      <td>0</td>\n      <td>PC 17757</td>\n      <td>227.525</td>\n      <td>C62 C64</td>\n      <td>C</td>\n      <td>?</td>\n      <td>124</td>\n      <td>New York, NY</td>\n    </tr>\n    <tr>\n      <th>11</th>\n      <td>1</td>\n      <td>1</td>\n      <td>Astor, Mrs. John Jacob (Madeleine Talmadge Force)</td>\n      <td>female</td>\n      <td>18</td>\n      <td>1</td>\n      <td>0</td>\n      <td>PC 17757</td>\n      <td>227.525</td>\n      <td>C62 C64</td>\n      <td>C</td>\n      <td>4</td>\n      <td>?</td>\n      <td>New York, NY</td>\n    </tr>\n    <tr>\n      <th>12</th>\n      <td>1</td>\n      <td>1</td>\n      <td>Aubart, Mme. Leontine Pauline</td>\n      <td>female</td>\n      <td>24</td>\n      <td>0</td>\n      <td>0</td>\n      <td>PC 17477</td>\n      <td>69.3</td>\n      <td>B35</td>\n      <td>C</td>\n      <td>9</td>\n      <td>?</td>\n      <td>Paris, France</td>\n    </tr>\n    <tr>\n      <th>13</th>\n      <td>1</td>\n      <td>1</td>\n      <td>Barber, Miss. Ellen 'Nellie'</td>\n      <td>female</td>\n      <td>26</td>\n      <td>0</td>\n      <td>0</td>\n      <td>19877</td>\n      <td>78.85</td>\n      <td>?</td>\n      <td>S</td>\n      <td>6</td>\n      <td>?</td>\n      <td>?</td>\n    </tr>\n    <tr>\n      <th>14</th>\n      <td>1</td>\n      <td>1</td>\n      <td>Barkworth, Mr. Algernon Henry Wilson</td>\n      <td>male</td>\n      <td>80</td>\n      <td>0</td>\n      <td>0</td>\n      <td>27042</td>\n      <td>30</td>\n      <td>A23</td>\n      <td>S</td>\n      <td>B</td>\n      <td>?</td>\n      <td>Hessle, Yorks</td>\n    </tr>\n    <tr>\n      <th>15</th>\n      <td>1</td>\n      <td>0</td>\n      <td>Baumann, Mr. John D</td>\n      <td>male</td>\n      <td>?</td>\n      <td>0</td>\n      <td>0</td>\n      <td>PC 17318</td>\n      <td>25.925</td>\n      <td>?</td>\n      <td>S</td>\n      <td>?</td>\n      <td>?</td>\n      <td>New York, NY</td>\n    </tr>\n    <tr>\n      <th>16</th>\n      <td>1</td>\n      <td>0</td>\n      <td>Baxter, Mr. Quigg Edmond</td>\n      <td>male</td>\n      <td>24</td>\n      <td>0</td>\n      <td>1</td>\n      <td>PC 17558</td>\n      <td>247.5208</td>\n      <td>B58 B60</td>\n      <td>C</td>\n      <td>?</td>\n      <td>?</td>\n      <td>Montreal, PQ</td>\n    </tr>\n    <tr>\n      <th>17</th>\n      <td>1</td>\n      <td>1</td>\n      <td>Baxter, Mrs. James (Helene DeLaudeniere Chaput)</td>\n      <td>female</td>\n      <td>50</td>\n      <td>0</td>\n      <td>1</td>\n      <td>PC 17558</td>\n      <td>247.5208</td>\n      <td>B58 B60</td>\n      <td>C</td>\n      <td>6</td>\n      <td>?</td>\n      <td>Montreal, PQ</td>\n    </tr>\n    <tr>\n      <th>18</th>\n      <td>1</td>\n      <td>1</td>\n      <td>Bazzani, Miss. Albina</td>\n      <td>female</td>\n      <td>32</td>\n      <td>0</td>\n      <td>0</td>\n      <td>11813</td>\n      <td>76.2917</td>\n      <td>D15</td>\n      <td>C</td>\n      <td>8</td>\n      <td>?</td>\n      <td>?</td>\n    </tr>\n    <tr>\n      <th>19</th>\n      <td>1</td>\n      <td>0</td>\n      <td>Beattie, Mr. Thomson</td>\n      <td>male</td>\n      <td>36</td>\n      <td>0</td>\n      <td>0</td>\n      <td>13050</td>\n      <td>75.2417</td>\n      <td>C6</td>\n      <td>C</td>\n      <td>A</td>\n      <td>?</td>\n      <td>Winnipeg, MN</td>\n    </tr>\n  </tbody>\n</table>\n</div>"
          },
          "execution_count": 249,
          "metadata": {},
          "output_type": "execute_result"
        }
      ],
      "source": [
        "data.head(20)\n"
      ],
      "metadata": {
        "id": "Ej7lz-TsfMEM",
        "outputId": "653c82ef-4632-43c9-d22e-2a51fde9d4f2"
      }
    },
    {
      "cell_type": "markdown",
      "source": [
        "3. Sprawdź ile jest wartości brakujących używając funkcji pd.isnull().sum() oraz pd.isnull().mean.\n",
        "Uwaga! Jest ich więcej niż 0. Czy zbiór danych należy zmodyfikować\n",
        "przed użyciem w/w funkcji? Jeśli tak to jak? → wystarczy jedna linia kodu\n",
        "W sprawozdaniu zapisz swoje obserwację i skomentuj % brakujących\n",
        "danych w zależności od danej zmiennej."
      ],
      "metadata": {
        "collapsed": false,
        "id": "i3hjTBHqfMEP"
      }
    },
    {
      "cell_type": "code",
      "execution_count": null,
      "outputs": [],
      "source": [
        "data.isnull().sum() # nie pokazuje wartosci null, bo trzeba zamienić ? na NaN\n",
        "data = data.replace(\"?\",np.NaN)\n",
        "\n",
        "miss = data.isnull().sum()\n",
        "miss_mean = data.isnull().mean()\n"
      ],
      "metadata": {
        "id": "0QLD9GUjfMEQ"
      }
    },
    {
      "cell_type": "markdown",
      "source": [
        "zaobserwowano braki danych w kolumnach: age 20%, fare 0.07%, cabin 77%, embarked 0,15%, boat 62%, body 90% home.dest 43%. Są to bardzo duże braki danych"
      ],
      "metadata": {
        "collapsed": false,
        "id": "Kn8ivwdhfMER"
      }
    },
    {
      "cell_type": "code",
      "execution_count": null,
      "outputs": [
        {
          "data": {
            "text/plain": "21.035687002073555"
          },
          "execution_count": 251,
          "metadata": {},
          "output_type": "execute_result"
        }
      ],
      "source": [
        "null = data.isnull().sum().sum()\n",
        "null\n",
        "data.shape\n",
        "procent_pustych = null/(1309*14)*100\n",
        "procent_pustych"
      ],
      "metadata": {
        "id": "fhlCEqChfMES",
        "outputId": "faa2e1ce-123b-4981-baf0-1ed1cd37f8c6"
      }
    },
    {
      "cell_type": "markdown",
      "source": [
        "4. Zastanów się z jakim rodzajem braków danych masz do czynienia – całkowicie przypadkowe (MCAR), przypadkowe (MAR) czy nie\n",
        "przypadkowe (MNAR). Swój wybór uzasadnij. Pamiętaj, że są to dane tragicznego rejsu, w którym spora część pasażerów nie przeżyła.\n",
        "W celu uzasadnienia swoich obserwacji utwórz binarną zmienną dla brakujących wartości w danej kolumnie.\n",
        "data['KolumnaNull’] = np.where(data['Kolumna'].isnull(), 1, 0)\n",
        "Zauważ, że istnieje zmienna Survived, która jest zmienną binarną informującą o tym czy ktoś przeżył lub nie. Spróbuj zmapować\n",
        "KolumnaNull ze zmienną Survived\n",
        "data.groupby(['Survived'])['KolumnaNull'].mean()\n",
        "Skomentuj wynik. Spróbuj zapisać powyższe dwie linijki kodu za pomocą tylko jednej.\n"
      ],
      "metadata": {
        "collapsed": false,
        "id": "43OC8VWlfMET"
      }
    },
    {
      "cell_type": "code",
      "execution_count": null,
      "outputs": [
        {
          "data": {
            "text/plain": "      pclass  survived                                             name  \\\n0          1         1                    Allen, Miss. Elisabeth Walton   \n1          1         1                   Allison, Master. Hudson Trevor   \n2          1         0                     Allison, Miss. Helen Loraine   \n3          1         0             Allison, Mr. Hudson Joshua Creighton   \n4          1         0  Allison, Mrs. Hudson J C (Bessie Waldo Daniels)   \n...      ...       ...                                              ...   \n1304       3         0                             Zabour, Miss. Hileni   \n1305       3         0                            Zabour, Miss. Thamine   \n1306       3         0                        Zakarian, Mr. Mapriededer   \n1307       3         0                              Zakarian, Mr. Ortin   \n1308       3         0                               Zimmerman, Mr. Leo   \n\n         sex     age  sibsp  parch  ticket      fare    cabin  ... boat body  \\\n0     female      29      0      0   24160  211.3375       B5  ...    2  NaN   \n1       male  0.9167      1      2  113781    151.55  C22 C26  ...   11  NaN   \n2     female       2      1      2  113781    151.55  C22 C26  ...  NaN  NaN   \n3       male      30      1      2  113781    151.55  C22 C26  ...  NaN  135   \n4     female      25      1      2  113781    151.55  C22 C26  ...  NaN  NaN   \n...      ...     ...    ...    ...     ...       ...      ...  ...  ...  ...   \n1304  female    14.5      1      0    2665   14.4542      NaN  ...  NaN  328   \n1305  female     NaN      1      0    2665   14.4542      NaN  ...  NaN  NaN   \n1306    male    26.5      0      0    2656     7.225      NaN  ...  NaN  304   \n1307    male      27      0      0    2670     7.225      NaN  ...  NaN  NaN   \n1308    male      29      0      0  315082     7.875      NaN  ...  NaN  NaN   \n\n                            home.dest ageNull  cabinNull  boatNull  bodyNull  \\\n0                        St Louis, MO       0          0         0         1   \n1     Montreal, PQ / Chesterville, ON       0          0         0         1   \n2     Montreal, PQ / Chesterville, ON       0          0         1         1   \n3     Montreal, PQ / Chesterville, ON       0          0         1         0   \n4     Montreal, PQ / Chesterville, ON       0          0         1         1   \n...                               ...     ...        ...       ...       ...   \n1304                              NaN       0          1         1         0   \n1305                              NaN       1          1         1         1   \n1306                              NaN       0          1         1         0   \n1307                              NaN       0          1         1         1   \n1308                              NaN       0          1         1         1   \n\n      fareNull  embarkedNull  home.destNull  \n0            0             0              0  \n1            0             0              0  \n2            0             0              0  \n3            0             0              0  \n4            0             0              0  \n...        ...           ...            ...  \n1304         0             0              1  \n1305         0             0              1  \n1306         0             0              1  \n1307         0             0              1  \n1308         0             0              1  \n\n[1309 rows x 21 columns]",
            "text/html": "<div>\n<style scoped>\n    .dataframe tbody tr th:only-of-type {\n        vertical-align: middle;\n    }\n\n    .dataframe tbody tr th {\n        vertical-align: top;\n    }\n\n    .dataframe thead th {\n        text-align: right;\n    }\n</style>\n<table border=\"1\" class=\"dataframe\">\n  <thead>\n    <tr style=\"text-align: right;\">\n      <th></th>\n      <th>pclass</th>\n      <th>survived</th>\n      <th>name</th>\n      <th>sex</th>\n      <th>age</th>\n      <th>sibsp</th>\n      <th>parch</th>\n      <th>ticket</th>\n      <th>fare</th>\n      <th>cabin</th>\n      <th>...</th>\n      <th>boat</th>\n      <th>body</th>\n      <th>home.dest</th>\n      <th>ageNull</th>\n      <th>cabinNull</th>\n      <th>boatNull</th>\n      <th>bodyNull</th>\n      <th>fareNull</th>\n      <th>embarkedNull</th>\n      <th>home.destNull</th>\n    </tr>\n  </thead>\n  <tbody>\n    <tr>\n      <th>0</th>\n      <td>1</td>\n      <td>1</td>\n      <td>Allen, Miss. Elisabeth Walton</td>\n      <td>female</td>\n      <td>29</td>\n      <td>0</td>\n      <td>0</td>\n      <td>24160</td>\n      <td>211.3375</td>\n      <td>B5</td>\n      <td>...</td>\n      <td>2</td>\n      <td>NaN</td>\n      <td>St Louis, MO</td>\n      <td>0</td>\n      <td>0</td>\n      <td>0</td>\n      <td>1</td>\n      <td>0</td>\n      <td>0</td>\n      <td>0</td>\n    </tr>\n    <tr>\n      <th>1</th>\n      <td>1</td>\n      <td>1</td>\n      <td>Allison, Master. Hudson Trevor</td>\n      <td>male</td>\n      <td>0.9167</td>\n      <td>1</td>\n      <td>2</td>\n      <td>113781</td>\n      <td>151.55</td>\n      <td>C22 C26</td>\n      <td>...</td>\n      <td>11</td>\n      <td>NaN</td>\n      <td>Montreal, PQ / Chesterville, ON</td>\n      <td>0</td>\n      <td>0</td>\n      <td>0</td>\n      <td>1</td>\n      <td>0</td>\n      <td>0</td>\n      <td>0</td>\n    </tr>\n    <tr>\n      <th>2</th>\n      <td>1</td>\n      <td>0</td>\n      <td>Allison, Miss. Helen Loraine</td>\n      <td>female</td>\n      <td>2</td>\n      <td>1</td>\n      <td>2</td>\n      <td>113781</td>\n      <td>151.55</td>\n      <td>C22 C26</td>\n      <td>...</td>\n      <td>NaN</td>\n      <td>NaN</td>\n      <td>Montreal, PQ / Chesterville, ON</td>\n      <td>0</td>\n      <td>0</td>\n      <td>1</td>\n      <td>1</td>\n      <td>0</td>\n      <td>0</td>\n      <td>0</td>\n    </tr>\n    <tr>\n      <th>3</th>\n      <td>1</td>\n      <td>0</td>\n      <td>Allison, Mr. Hudson Joshua Creighton</td>\n      <td>male</td>\n      <td>30</td>\n      <td>1</td>\n      <td>2</td>\n      <td>113781</td>\n      <td>151.55</td>\n      <td>C22 C26</td>\n      <td>...</td>\n      <td>NaN</td>\n      <td>135</td>\n      <td>Montreal, PQ / Chesterville, ON</td>\n      <td>0</td>\n      <td>0</td>\n      <td>1</td>\n      <td>0</td>\n      <td>0</td>\n      <td>0</td>\n      <td>0</td>\n    </tr>\n    <tr>\n      <th>4</th>\n      <td>1</td>\n      <td>0</td>\n      <td>Allison, Mrs. Hudson J C (Bessie Waldo Daniels)</td>\n      <td>female</td>\n      <td>25</td>\n      <td>1</td>\n      <td>2</td>\n      <td>113781</td>\n      <td>151.55</td>\n      <td>C22 C26</td>\n      <td>...</td>\n      <td>NaN</td>\n      <td>NaN</td>\n      <td>Montreal, PQ / Chesterville, ON</td>\n      <td>0</td>\n      <td>0</td>\n      <td>1</td>\n      <td>1</td>\n      <td>0</td>\n      <td>0</td>\n      <td>0</td>\n    </tr>\n    <tr>\n      <th>...</th>\n      <td>...</td>\n      <td>...</td>\n      <td>...</td>\n      <td>...</td>\n      <td>...</td>\n      <td>...</td>\n      <td>...</td>\n      <td>...</td>\n      <td>...</td>\n      <td>...</td>\n      <td>...</td>\n      <td>...</td>\n      <td>...</td>\n      <td>...</td>\n      <td>...</td>\n      <td>...</td>\n      <td>...</td>\n      <td>...</td>\n      <td>...</td>\n      <td>...</td>\n      <td>...</td>\n    </tr>\n    <tr>\n      <th>1304</th>\n      <td>3</td>\n      <td>0</td>\n      <td>Zabour, Miss. Hileni</td>\n      <td>female</td>\n      <td>14.5</td>\n      <td>1</td>\n      <td>0</td>\n      <td>2665</td>\n      <td>14.4542</td>\n      <td>NaN</td>\n      <td>...</td>\n      <td>NaN</td>\n      <td>328</td>\n      <td>NaN</td>\n      <td>0</td>\n      <td>1</td>\n      <td>1</td>\n      <td>0</td>\n      <td>0</td>\n      <td>0</td>\n      <td>1</td>\n    </tr>\n    <tr>\n      <th>1305</th>\n      <td>3</td>\n      <td>0</td>\n      <td>Zabour, Miss. Thamine</td>\n      <td>female</td>\n      <td>NaN</td>\n      <td>1</td>\n      <td>0</td>\n      <td>2665</td>\n      <td>14.4542</td>\n      <td>NaN</td>\n      <td>...</td>\n      <td>NaN</td>\n      <td>NaN</td>\n      <td>NaN</td>\n      <td>1</td>\n      <td>1</td>\n      <td>1</td>\n      <td>1</td>\n      <td>0</td>\n      <td>0</td>\n      <td>1</td>\n    </tr>\n    <tr>\n      <th>1306</th>\n      <td>3</td>\n      <td>0</td>\n      <td>Zakarian, Mr. Mapriededer</td>\n      <td>male</td>\n      <td>26.5</td>\n      <td>0</td>\n      <td>0</td>\n      <td>2656</td>\n      <td>7.225</td>\n      <td>NaN</td>\n      <td>...</td>\n      <td>NaN</td>\n      <td>304</td>\n      <td>NaN</td>\n      <td>0</td>\n      <td>1</td>\n      <td>1</td>\n      <td>0</td>\n      <td>0</td>\n      <td>0</td>\n      <td>1</td>\n    </tr>\n    <tr>\n      <th>1307</th>\n      <td>3</td>\n      <td>0</td>\n      <td>Zakarian, Mr. Ortin</td>\n      <td>male</td>\n      <td>27</td>\n      <td>0</td>\n      <td>0</td>\n      <td>2670</td>\n      <td>7.225</td>\n      <td>NaN</td>\n      <td>...</td>\n      <td>NaN</td>\n      <td>NaN</td>\n      <td>NaN</td>\n      <td>0</td>\n      <td>1</td>\n      <td>1</td>\n      <td>1</td>\n      <td>0</td>\n      <td>0</td>\n      <td>1</td>\n    </tr>\n    <tr>\n      <th>1308</th>\n      <td>3</td>\n      <td>0</td>\n      <td>Zimmerman, Mr. Leo</td>\n      <td>male</td>\n      <td>29</td>\n      <td>0</td>\n      <td>0</td>\n      <td>315082</td>\n      <td>7.875</td>\n      <td>NaN</td>\n      <td>...</td>\n      <td>NaN</td>\n      <td>NaN</td>\n      <td>NaN</td>\n      <td>0</td>\n      <td>1</td>\n      <td>1</td>\n      <td>1</td>\n      <td>0</td>\n      <td>0</td>\n      <td>1</td>\n    </tr>\n  </tbody>\n</table>\n<p>1309 rows × 21 columns</p>\n</div>"
          },
          "execution_count": 252,
          "metadata": {},
          "output_type": "execute_result"
        }
      ],
      "source": [
        "data['ageNull'] = np.where(data['age'].isnull(), 1, 0)\n",
        "data['cabinNull'] = np.where(data['cabin'].isnull(), 1, 0)\n",
        "data['boatNull'] = np.where(data['boat'].isnull(), 1, 0)\n",
        "data['bodyNull'] = np.where(data['body'].isnull(), 1, 0)\n",
        "data['fareNull'] = np.where(data['fare'].isnull(), 1, 0)\n",
        "data['embarkedNull'] = np.where(data['embarked'].isnull(), 1, 0)\n",
        "data['home.destNull'] = np.where(data['home.dest'].isnull(), 1, 0)\n",
        "\n",
        "data\n"
      ],
      "metadata": {
        "id": "-rbs81MmfMEU",
        "outputId": "48a6967f-7507-4b75-b5f3-5387d55d61b7"
      }
    },
    {
      "cell_type": "code",
      "execution_count": null,
      "outputs": [
        {
          "data": {
            "text/plain": "survived\n0    0.508035\n1    0.306000\nName: home.destNull, dtype: float64"
          },
          "execution_count": 253,
          "metadata": {},
          "output_type": "execute_result"
        }
      ],
      "source": [
        "data.groupby(['survived'])['ageNull'].mean()\n",
        "data.groupby(['survived'])['cabinNull'].mean()\n",
        "data.groupby(['survived'])['boatNull'].mean()\n",
        "data.groupby(['survived'])['bodyNull'].mean()\n",
        "data.groupby(['survived'])['fareNull'].mean()\n",
        "data.groupby(['survived'])['embarkedNull'].mean()\n",
        "data.groupby(['survived'])['home.destNull'].mean()\n",
        "\n",
        "\n",
        "\n",
        "\n",
        "\n",
        "\n"
      ],
      "metadata": {
        "id": "iA9P6gJjfMEV",
        "outputId": "74ea1011-6e49-4ac5-ace0-826af79980d1"
      }
    },
    {
      "cell_type": "code",
      "execution_count": null,
      "outputs": [
        {
          "data": {
            "text/plain": "               age     cabin      boat      body      fare  embarked  \\\nsurvived                                                               \n0         0.234858  0.873918  0.988875  0.850433  0.001236     0.000   \n1         0.146000  0.614000  0.046000  1.000000  0.000000     0.004   \n\n          home.dest  \nsurvived             \n0          0.508035  \n1          0.306000  ",
            "text/html": "<div>\n<style scoped>\n    .dataframe tbody tr th:only-of-type {\n        vertical-align: middle;\n    }\n\n    .dataframe tbody tr th {\n        vertical-align: top;\n    }\n\n    .dataframe thead th {\n        text-align: right;\n    }\n</style>\n<table border=\"1\" class=\"dataframe\">\n  <thead>\n    <tr style=\"text-align: right;\">\n      <th></th>\n      <th>age</th>\n      <th>cabin</th>\n      <th>boat</th>\n      <th>body</th>\n      <th>fare</th>\n      <th>embarked</th>\n      <th>home.dest</th>\n    </tr>\n    <tr>\n      <th>survived</th>\n      <th></th>\n      <th></th>\n      <th></th>\n      <th></th>\n      <th></th>\n      <th></th>\n      <th></th>\n    </tr>\n  </thead>\n  <tbody>\n    <tr>\n      <th>0</th>\n      <td>0.234858</td>\n      <td>0.873918</td>\n      <td>0.988875</td>\n      <td>0.850433</td>\n      <td>0.001236</td>\n      <td>0.000</td>\n      <td>0.508035</td>\n    </tr>\n    <tr>\n      <th>1</th>\n      <td>0.146000</td>\n      <td>0.614000</td>\n      <td>0.046000</td>\n      <td>1.000000</td>\n      <td>0.000000</td>\n      <td>0.004</td>\n      <td>0.306000</td>\n    </tr>\n  </tbody>\n</table>\n</div>"
          },
          "execution_count": 254,
          "metadata": {},
          "output_type": "execute_result"
        }
      ],
      "source": [
        "data[['age','cabin','boat','body','fare','embarked','home.dest']].isnull().groupby(data['survived']).mean()"
      ],
      "metadata": {
        "id": "R0RjhzhAfMEX",
        "outputId": "bc7a9054-cc9a-4d14-b620-3edda258c1fe"
      }
    },
    {
      "cell_type": "markdown",
      "source": [
        "Dane dotyczą tragicznego rejsu, w których spora część pasażerów nie przeżyła, a dane są z dawnego okresu, dlatego braki danych nie są przypadkowe (MNAR), a świadczą raczej o trudności w dotarciu do określonych informacji. Nie powinniśmy ich usuwać, a raczej stworzyć z nich (braków) oddzielną kategorie.\n"
      ],
      "metadata": {
        "collapsed": false,
        "id": "1QRrRZY1fMEX"
      }
    },
    {
      "cell_type": "markdown",
      "source": [
        "5. Po powyższej analizie odpowiedz na pytanie w jaki sposób należy postąpić z brakującymi wartościami."
      ],
      "metadata": {
        "collapsed": false,
        "id": "pCWihAYQfMEY"
      }
    },
    {
      "cell_type": "markdown",
      "source": [
        "Dla danych brakujących, dotyczących wieku (age) można przyjąć średnią lub medianę. Dla cabin, boat, body, home.dest należy stworzyć\n",
        "nową kategorię dla wartości brakujących, ponieważ tych wartości brakujących dla tych kolumn jest zbyt dużo. Dla fare i embarked % brakujących wartości jest mniejszy niż 5%, dlatego te wartości (rekordy) możemy usunąć, a braki uznać za całkowicie przypadkowe."
      ],
      "metadata": {
        "collapsed": false,
        "id": "sChACvscfMEZ"
      }
    },
    {
      "cell_type": "code",
      "execution_count": null,
      "outputs": [],
      "source": [],
      "metadata": {
        "id": "A6EpmpPyfMEZ"
      }
    }
  ],
  "metadata": {
    "kernelspec": {
      "display_name": "Python 3",
      "language": "python",
      "name": "python3"
    },
    "language_info": {
      "codemirror_mode": {
        "name": "ipython",
        "version": 2
      },
      "file_extension": ".py",
      "mimetype": "text/x-python",
      "name": "python",
      "nbconvert_exporter": "python",
      "pygments_lexer": "ipython2",
      "version": "2.7.6"
    },
    "colab": {
      "provenance": []
    }
  },
  "nbformat": 4,
  "nbformat_minor": 0
}